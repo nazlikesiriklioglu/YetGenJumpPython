{
 "cells": [
  {
   "attachments": {},
   "cell_type": "markdown",
   "metadata": {},
   "source": [
    "# Problem 1\n",
    "\n",
    "Şimdi beraber kullanıcılardan aldığımız verileri işleyerek, onlara hem çıktı verecek, hem de aldığımız ve hesapladığımız verileri ileride kullanabilmek adına kaydedeceğiz.\n",
    "\n",
    "\n",
    " **Bu bir veri giriş platformu olacak**\n",
    "\n",
    "\n",
    " * kullanıcıya kaç giriş yapacağını soracağız\n",
    "* kullanıcıdan isim-soyisim, yaş, boy, kilo bilgilerini alarak VKİ hesaplayacağız\n",
    "* ardından bunları sınıflara göre kaydedeceğiz bir dosyaya kaydedeceğiz\n",
    "\n",
    "\n",
    "Sınıflar ise şu şekilde: \n",
    "* 18, 5 kg/m.'nin altında olanlar: Zayıf\n",
    "* 18.5 – 24, 9 kg/m. arasında olanlar: Normal kilolu\n",
    "* 25 – 29, 9 kg/m. arasında olanlar: Fazla kilolu\n",
    "* 30 – 39, 9 kg/m. arasında olanlar: Obez\n",
    "* 40 kg/m.'nin üzerinde olanlar: İleri derecede obez (morbid obez), olarak görülür."
   ]
  },
  {
   "cell_type": "code",
   "execution_count": 1,
   "metadata": {},
   "outputs": [
    {
     "name": "stdout",
     "output_type": "stream",
     "text": [
      "Veriler dosyaya kaydedildi.\n"
     ]
    }
   ],
   "source": [
    "import time\n",
    "def vkiHesaplama(boy,kilo):\n",
    "    vki=(kilo)/(boy**2)\n",
    "    return round(vki/1)\n",
    "def degerler(vki):\n",
    "    if vki<18.5:\n",
    "        return \"zayıf\"\n",
    "    if 18.5<vki<24.9:\n",
    "        return \"normal kilolu\"\n",
    "    if 25<vki<29.9:\n",
    "        return \"fazla kilolu\"\n",
    "    if 30<vki<39.9:\n",
    "        return \"obez\"\n",
    "    elif vki>=40:\n",
    "        return \"ileri derecede obez\"\n",
    "      \n",
    "def cikti(isim,yas,kilo,boy,vki,deger):\n",
    "    kayit_tarihi= time.ctime(time.time())\n",
    "    a1=f\"kullanıcı adi {isim}\\n\"\n",
    "    a2=f\"kullanıcının yas,kilo,boy bilgisi {yas},{kilo},{boy}\\n\"\n",
    "    a3=f\"kullanıcının vücut kitle indexi {vki}\\n\"\n",
    "    a4=f\"değer aralığı {deger}\\n\"\n",
    "    a5=f\"oluşturma tarihi:{kayit_tarihi}\\n\"\n",
    "    output= a1+a2+a3+a4+a5\n",
    "    return output\n",
    "def main():\n",
    "    girisSayisi= int(input(\"Giriş yapmak istediğiniz kişi sayisini giriniz:\"))\n",
    "    for i in range (girisSayisi):\n",
    "        print(f\"kullanıcı kaydı {i+1}\")\n",
    "        isim=input(\"İsim soyisim bilgilerinizi giriniz:\")\n",
    "        yas=int(input(\"Yaşınızı giriniz:\"))\n",
    "        boy=float(input(\"Metre türünden boyunuzu giriniz:\"))\n",
    "        kilo=float(input(\"Kg türünden kilonuzu giriniz:\"))\n",
    "        vki=vkiHesaplama(kilo,boy)\n",
    "        deger=degerler(vki)\n",
    "        output=cikti(isim,yas,kilo,boy,vki,deger)\n",
    "        with open (\"saglik.txt\",\"a\")as file:\n",
    "            file.write(output)\n",
    "            file.write(\"*\"*20)\n",
    "            file.write(\"\\n\")\n",
    "            print(\"Bilgilerini eklediğiniz kullanıcı kaydedildi.\")\n",
    "print(\"Veriler dosyaya kaydedildi.\")"
   ]
  },
  {
   "attachments": {},
   "cell_type": "markdown",
   "metadata": {},
   "source": [
    "# Problem 2\n",
    "**YetBar - Smoothie Bank**\n",
    "---\n",
    "YetBar spor salonunun girişinde bulunan, insansız bir sağlıklı içecek otomatıdır. Kullanıcı çeşitli girdiler smoothie içeceğine koyacağı ürünleri belirleyebilir, fiyat hesaplaması yaptırabilir ya da sadece menüyü görüntüleyebilir.\n",
    "\n",
    "**Projenin Amacı:**\n",
    "\n",
    "*   Birbirini etkileyen ve bir kod içerisinde birden fazla defa başvurulacak fonksiyonların oluşturulup, \"fonksiyonel\" proglamlamak.\n",
    "*   Büyük programları yazarken, yazılımcı olarak yapabileceğimiz hatalardan kaçınmak için kontrol yöntemleri geliştirmek.\n",
    "*   Kullanıcı inputlarını ve yaptığımız hesapları, raporlamak/loglamak amacıyla kaydetmek.\n",
    "\n",
    "**Programdan Beklenen Çıktılar**\n",
    "* Program kullanıcıya temelde 2 farklı işlem yapma imkanı sağlar.\n",
    "> 1. Menüyü görüntüleme\n",
    "> 3. Satın alma\n",
    "* Satın alınan her içecek tarih, fiyat bilgisi ile kaydedilmeli ve her zaman ulaşılabilir olmalıdır.\n",
    "\n",
    "\n"
   ]
  },
  {
   "cell_type": "code",
   "execution_count": null,
   "metadata": {},
   "outputs": [],
   "source": [
    "# 2.Problemin Çözümünü Buraya Yazınız"
   ]
  }
 ],
 "metadata": {
  "kernelspec": {
   "display_name": "Python 3",
   "language": "python",
   "name": "python3"
  },
  "language_info": {
   "codemirror_mode": {
    "name": "ipython",
    "version": 3
   },
   "file_extension": ".py",
   "mimetype": "text/x-python",
   "name": "python",
   "nbconvert_exporter": "python",
   "pygments_lexer": "ipython3",
   "version": "3.11.1"
  },
  "orig_nbformat": 4,
  "vscode": {
   "interpreter": {
    "hash": "feb718595ea38e5337b696ddfcca7268c00e8a38dc96f404439993f0781b242c"
   }
  }
 },
 "nbformat": 4,
 "nbformat_minor": 2
}
