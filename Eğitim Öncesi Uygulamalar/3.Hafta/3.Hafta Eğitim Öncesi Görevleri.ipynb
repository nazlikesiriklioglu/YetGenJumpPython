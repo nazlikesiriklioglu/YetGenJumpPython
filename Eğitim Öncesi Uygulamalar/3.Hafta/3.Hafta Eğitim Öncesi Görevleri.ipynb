{
  "cells": [
    {
      "cell_type": "markdown",
      "metadata": {
        "id": "tsD4YVAe_Te2"
      },
      "source": [
        "# Problem 1\n",
        "Bir sayının 7'ye bölünebilir olup olmadığını kontrol etmek \n",
        "için bir program yazın.\n",
        "\n",
        "İpucu: Mod operatörünü (%) kullanabilirsiniz."
      ]
    },
    {
      "cell_type": "code",
      "execution_count": 2,
      "metadata": {
        "id": "NGjvNwKx_Te7"
      },
      "outputs": [
        {
          "name": "stdout",
          "output_type": "stream",
          "text": [
            "Sayi 7'ye tam bölünmektedir.\n"
          ]
        }
      ],
      "source": [
        "sayi=  int(input(\"Bir sayi giriniz:\"))\n",
        "if sayi % 7 == 0:\n",
        "    print(\"Sayi 7'ye tam bölünmektedir.\")\n",
        "else:\n",
        "    print(\"Sayi 7'ye tam bölünmemektedir.\")"
      ]
    },
    {
      "cell_type": "markdown",
      "metadata": {
        "id": "Kg3qiBAI_Te8"
      },
      "source": [
        "# Problem 2\n",
        "Kullanıcıdan vize ve final notu isteyin. Girilen vize notunun %40’ı ve \n",
        "girilen finalnotunun ise %60’ı alınarak yıl sonu not ortalaması hesaplanacaktır. \n",
        "\n",
        "Bu not ortalaması eğer 85 ve üzeri ise AA, \n",
        "\n",
        "75 ve 85 arasında ise BA, \n",
        "\n",
        "70 ve 75 arasında ise BB, \n",
        "\n",
        "65 ve 70 arasında ise CB,\n",
        "\n",
        "60 ve 65 arasında ise CC,\n",
        "\n",
        "55 ve 60 arasında ise DC,\n",
        "\n",
        "50 ve 55 arasında ise DD olarak hesaplanacaktır. \n",
        "\n",
        "Bu öğrencinin yıl sonu toplam notu 50’nin altında ise FF ile dersten kalacaktır. \n",
        "\n",
        "Ayrıca öğrencinin final notu 50’nin altında ise direkt FF ile kalacaktır."
      ]
    },
    {
      "cell_type": "code",
      "execution_count": 15,
      "metadata": {
        "id": "MXTtCxI1_Te8"
      },
      "outputs": [
        {
          "name": "stdout",
          "output_type": "stream",
          "text": [
            "Dersten kaldınız.\n",
            "Not ortalamanız 50'nin altında olduğundan FF ile dersten kaldınız\n"
          ]
        }
      ],
      "source": [
        "FinalNotu= int(input(\"Final notunuzu giriniz:\"))\n",
        "VizeNotu= int(input(\"Vize notunuzu giriniz: \"))\n",
        "NotOrt= int(FinalNotu*(60/100)+VizeNotu*(40/100))\n",
        "if FinalNotu<50:\n",
        "    print(\"Dersten kaldınız.\")\n",
        "if NotOrt>=85:\n",
        "    print(\"Not ortalamanız AA'dır.\")\n",
        "elif 75<NotOrt<85:\n",
        "    print(\"Not ortalamanız BA'dır.\")\n",
        "elif 70<NotOrt<75:\n",
        "    print(\"Not ortalamanız BB'dir.\")\n",
        "elif 65<NotOrt<70:\n",
        "    print(\"Not ortalamanız CB'dir.\")\n",
        "elif 60<NotOrt<65:\n",
        "    print(\"Not ortalamaız CC'dir.\")\n",
        "elif 55<NotOrt<60:\n",
        "    print(\"Not ortalamanız DC'dir.\")\n",
        "elif 50<NotOrt<55:\n",
        "    print(\"Not ortalamanız DD'dir.\")\n",
        "elif NotOrt<50:\n",
        "    print(\"Not ortalamanız 50'nin altında olduğundan FF ile dersten kaldınız\")    "
      ]
    },
    {
      "cell_type": "markdown",
      "metadata": {
        "id": "tAoRYCTC_Te8"
      },
      "source": [
        "# Problem 3\n",
        "İki YetGenli Zirve'de karşılaşıyorlar. Birbirlerini tanımak için sorular soruyorlar. Birbirlerine yaşlarını soruyorlar. Akıllarına bir Python programı yazıp, yaşlarını ve isimlerini giriyorlar. Büyük olanın yaşını ekrana yazdıran programı yazıyorlar. Sende bu iki YetGenli'ye destek olmak ister misin?\n",
        "\n",
        "```\n",
        "Birinci YetGenlinin ismi: Ahmet\n",
        "Birinci YetGenlinin yaşı : 20\n",
        "İkinci YetGenlinin ismi: Mehmet\n",
        "İkinci YetGenlinin yaşı : 25\n",
        "Mehmet'in yaşı daha büyük ve yaşı 25'tir.\n",
        "```"
      ]
    },
    {
      "cell_type": "code",
      "execution_count": 16,
      "metadata": {
        "id": "bPjE8W0i_Te8"
      },
      "outputs": [
        {
          "name": "stdout",
          "output_type": "stream",
          "text": [
            "Mehmet'in yasi daha büyük ve 25'dir.\n"
          ]
        }
      ],
      "source": [
        "İsim1= \"Ahmet\"\n",
        "Yas1= 20\n",
        "İsim2= \"Mehmet\"\n",
        "Yas2=25\n",
        "if Yas1>Yas2:\n",
        "    print(f\"{İsim1}'in yasi daha büyük ve yasi{Yas1}'dir.\")\n",
        "else:\n",
        "    print(f\"{İsim2}'in yasi daha büyük ve {Yas2}'dir.\")"
      ]
    },
    {
      "cell_type": "markdown",
      "metadata": {
        "id": "zBVv8Tyg_Te9"
      },
      "source": [
        "# Problem 4\n",
        "Pandemi döneminde AVM'lerde ateş ölçümü yapılıyor. AVM'ye giren kişinin ateş ölçümü 37.5 derecenin altında ise girişe izin veriliyor. 37.5 derecenin üstünde ise girişe izin verilmiyor. AVM'ye girişe izin verilip verilmediğini ekrana yazdıran bir program yazın.\n",
        "\n",
        "Program sonunda şöyle bir çıktı elde etmelisiniz:\n",
        "\n",
        "```\n",
        "Ateşiniz 37.5 derece. AVM'ye girebilirsin! Maske takmayı unutma!\n",
        "Ateşiniz 37.6 derece. AVM'ye giremezsin! Hemen evine dön!\n",
        "```"
      ]
    },
    {
      "cell_type": "code",
      "execution_count": 26,
      "metadata": {
        "id": "TSAXs8et_Te9"
      },
      "outputs": [
        {
          "name": "stdout",
          "output_type": "stream",
          "text": [
            "Atesiniz 38.0 derece. AVM'ye giremezsin! Hemen evine dön!\n"
          ]
        }
      ],
      "source": [
        "ates=float(input(\"Ates olcumunuzu giriniz:\"))\n",
        "if ates<37.5:\n",
        "    print(f\"Atesiniz {ates} derece.Giris icin uygun.AVM'ye girebilirsin! Maske takmayi unutma!\")\n",
        "elif ates==37.5:\n",
        "    print(\"Atesiniz 37.5 derece. AVM'ye girebilirsin! Maske takmayı unutma!\")\n",
        "elif ates>37.5:\n",
        "    print(f\"Atesiniz {ates} derece. AVM'ye giremezsin! Hemen evine dön!\")\n",
        "\n",
        "\n",
        "    \n"
      ]
    },
    {
      "cell_type": "markdown",
      "metadata": {
        "id": "6AEkZrDt_Te9"
      },
      "source": [
        "# Problem 5\n",
        "YetGen bir spor kulübüyle sponsorluk anlaşması yapıyor. Kulüp, sponsorluk anlaşmasına göre her YetGen liderinin beden kitle indeksini hesaplamak istiyor. Spor kulübü, beden kitle indeksini hesaplamak için YetGen Jump Python liderlerinden Berkcan ve Ahmet'i arıyor. Berkcan ve Ahmet, kulübe yardımcı olmak için bir Python programı yazıyorlar. Sende bu iki YetGen liderine destek olmak ister misin?\n",
        "\n",
        "Kullanıcıdan alınan boy ve kilo değerlerine göre beden kitle indeksini hesaplayın ve şu kurallara göre ekrana şu yazıları yazdırın.\n",
        "\n",
        "\n",
        "Beden Kitle İndeksi, kişinin ağırlığının (kg olarak) boyunun karesine (m olarak) bölünmesiyle hesaplanır.\n",
        "\n",
        "\n",
        "```\n",
        " BKİ 18.5'un altındaysa -------> Zayıf\n",
        "\n",
        " BKİ 18.5 ile 25 arasındaysa ------> Normal\n",
        "\n",
        " BKİ 25 ile 30 arasındaysa --------> Fazla Kilolu\n",
        "\n",
        " BKİ 30'un üstündeyse -------------> Obez\n",
        "```\n",
        "\n"
      ]
    },
    {
      "cell_type": "code",
      "execution_count": 28,
      "metadata": {
        "id": "t-XPI_u0_Te-"
      },
      "outputs": [
        {
          "name": "stdout",
          "output_type": "stream",
          "text": [
            "23.38868655818771\n",
            "Normal\n"
          ]
        }
      ],
      "source": [
        "boy=float(input(\"Boy uzunlugunuzu metre olarak giriniz:\"))\n",
        "kilo= float(input(\"Kilo degerinizi kg olarak giriniz:\"))\n",
        "BKİ= kilo/(boy**2)\n",
        "print(BKİ) # kontrol amacli yazilmistir.\n",
        "\n",
        "if BKİ<18.5:\n",
        "    print(\"Zayıf\")\n",
        "elif 18.5<BKİ<25:\n",
        "    print(\"Normal\")\n",
        "elif 25<BKİ<30:\n",
        "    print(\"Fazla Kilolu\")\n",
        "elif 30<BKİ:\n",
        "    print(\"Obez\")"
      ]
    },
    {
      "cell_type": "markdown",
      "metadata": {
        "id": "oFsvQyaO_Te-"
      },
      "source": [
        "# Problem 6\n",
        "Kullanıcıdan isim, yaş ve eğitim bilgilerini isteyip ehliyet alabilme  durumunu kontrol ediniz. \n",
        "\n",
        "Ehliyet alma koşulu en az 18 yaşında ve eğitim durumu lise ya da üniversite olmalıdır. "
      ]
    },
    {
      "cell_type": "code",
      "execution_count": 35,
      "metadata": {
        "id": "Tu2mcgco_Te-"
      },
      "outputs": [
        {
          "name": "stdout",
          "output_type": "stream",
          "text": [
            "Ehliyet alma kriterlerini sağlayamadınız.\n"
          ]
        }
      ],
      "source": [
        "isim= input(\"İsminizi giriniz:\")\n",
        "yas= int(input(\"Yasinizi giriniz:\"))\n",
        "egitimBilgisi=input(\"Ogrenim durumunuzu giriniz:\")\n",
        "if yas>=18 and egitimBilgisi== \"lise\":\n",
        "    print(\"Ehliyet alma kriterlerini sağlıyorsunuz. Tebrikler!\")\n",
        "elif yas>=18 and egitimBilgisi==\"universite\":\n",
        "    print(\"Ehliyet alma kriterlerini sağlıyorsunuz. Tebrikler!\")\n",
        "elif yas<18:\n",
        "    print(\"Ehliyet alma kriterlerini sağlayamadınız.\")"
      ]
    },
    {
      "cell_type": "markdown",
      "metadata": {
        "id": "eUkxVSAE_Te_"
      },
      "source": [
        "# Problem 7\n",
        "Bir yılın artık yıl olup olmadığını kontrol etmek için bir program yazın. \n",
        "Artık yıl kuralı:\n",
        "\n",
        "a) Eğer yılın son iki basamağı (00) ile bitmiyor ve yalnızca 4'e tam bölünüyorsa artık yıldır. Ya da, \n",
        "\n",
        "b) Eğer yıl 400'e tam bölünüyorsa artık yıldır.\n",
        "\n",
        "**Örneğin**\n",
        "```\n",
        "2017 artık yıl değildir.\n",
        "1900 artık yıl değildir\n",
        "2012 artık yıldır.\n",
        "2000 artık yıldır.\n",
        "```"
      ]
    },
    {
      "cell_type": "code",
      "execution_count": 36,
      "metadata": {
        "id": "4uWh8qUL_Te_"
      },
      "outputs": [
        {
          "name": "stdout",
          "output_type": "stream",
          "text": [
            "1693 artik yil degildir.\n"
          ]
        }
      ],
      "source": [
        "yil= int(input(\"Bir yıl giriniz:\"))\n",
        "if yil%4==0 or yil%400==0 :\n",
        "    print(f\"{yil} artik yildir.\")\n",
        "else:\n",
        "    print(f\"{yil} artik yil degildir.\")"
      ]
    }
  ],
  "metadata": {
    "colab": {
      "provenance": []
    },
    "kernelspec": {
      "display_name": "Python 3.10.5 64-bit",
      "language": "python",
      "name": "python3"
    },
    "language_info": {
      "codemirror_mode": {
        "name": "ipython",
        "version": 3
      },
      "file_extension": ".py",
      "mimetype": "text/x-python",
      "name": "python",
      "nbconvert_exporter": "python",
      "pygments_lexer": "ipython3",
      "version": "3.11.1"
    },
    "orig_nbformat": 4,
    "vscode": {
      "interpreter": {
        "hash": "5026d2d6e7aaaaba093def813beadff083d8733e4a511af01735cbabd156995d"
      }
    }
  },
  "nbformat": 4,
  "nbformat_minor": 0
}
